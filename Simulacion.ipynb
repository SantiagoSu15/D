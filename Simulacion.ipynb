{
 "cells": [
  {
   "cell_type": "code",
   "execution_count": 1,
   "metadata": {},
   "outputs": [
    {
     "name": "stdout",
     "output_type": "stream",
     "text": [
      "Estado Inicial: [[1]\n",
      " [0]\n",
      " [0]\n",
      " [0]\n",
      " [0]\n",
      " [0]\n",
      " [0]\n",
      " [0]]\n",
      "Estado Despues del tick 1: [[0. ]\n",
      " [0.5]\n",
      " [0.5]\n",
      " [0. ]\n",
      " [0. ]\n",
      " [0. ]\n",
      " [0. ]\n",
      " [0. ]]\n",
      "Estado Despues del tick 2: [[0.        ]\n",
      " [0.        ]\n",
      " [0.        ]\n",
      " [0.16666667]\n",
      " [0.16666667]\n",
      " [0.33333333]\n",
      " [0.16666667]\n",
      " [0.16666667]]\n",
      "Estado Despues del tick 3: [[0.        ]\n",
      " [0.        ]\n",
      " [0.        ]\n",
      " [0.16666667]\n",
      " [0.16666667]\n",
      " [0.16666667]\n",
      " [0.16666667]\n",
      " [0.16666667]]\n",
      "Estado Despues del tick 4: [[0.        ]\n",
      " [0.        ]\n",
      " [0.        ]\n",
      " [0.16666667]\n",
      " [0.16666667]\n",
      " [0.16666667]\n",
      " [0.16666667]\n",
      " [0.16666667]]\n",
      "Estado Despues del tick 5: [[0.        ]\n",
      " [0.        ]\n",
      " [0.        ]\n",
      " [0.16666667]\n",
      " [0.16666667]\n",
      " [0.16666667]\n",
      " [0.16666667]\n",
      " [0.16666667]]\n"
     ]
    }
   ],
   "source": [
    "import numpy as np\n",
    "\n",
    "\n",
    "m2 = np.array([[0, 0, 0, 0, 0, 0, 0, 0], \n",
    "                [1/2, 0, 0, 0, 0, 0, 0, 0], \n",
    "                [1/2, 0, 0, 0, 0, 0, 0, 0], \n",
    "                [0, 1/3, 0, 1, 0, 0, 0, 0], \n",
    "                [0, 1/3, 0, 0, 1, 0, 0, 0], \n",
    "                [0, 1/3, 1/3, 0, 1, 0, 0, 0], \n",
    "                [0, 0, 1/3, 0, 0, 0, 1, 0], \n",
    "                [0, 0, 1/3, 0, 0, 0, 0, 1]])\n",
    "\n",
    "initial_state = np.array([[1], [0], [0], [0], [0], [0], [0], [0]])\n",
    "\n",
    "def doble_rendija(ticks):\n",
    "       \n",
    "    current_state = initial_state.copy()\n",
    "    \n",
    "    print(f\"Estado Inicial: {current_state}\")\n",
    "    \n",
    "    for t in range(ticks):\n",
    "        current_state = np.dot(m2, current_state)  \n",
    "        \n",
    "        print(f\"Estado Despues del tick {t + 1}: {current_state}\")\n",
    "\n",
    "doble_rendija(5)  \n"
   ]
  }
 ],
 "metadata": {
  "kernelspec": {
   "display_name": "Python 3",
   "language": "python",
   "name": "python3"
  },
  "language_info": {
   "codemirror_mode": {
    "name": "ipython",
    "version": 3
   },
   "file_extension": ".py",
   "mimetype": "text/x-python",
   "name": "python",
   "nbconvert_exporter": "python",
   "pygments_lexer": "ipython3",
   "version": "3.12.6"
  }
 },
 "nbformat": 4,
 "nbformat_minor": 2
}
